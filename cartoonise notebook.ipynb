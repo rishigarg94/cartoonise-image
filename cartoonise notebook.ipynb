{
 "cells": [
  {
   "cell_type": "code",
   "execution_count": 94,
   "metadata": {
    "scrolled": true
   },
   "outputs": [
    {
     "ename": "SyntaxError",
     "evalue": "invalid syntax (<ipython-input-94-eee4ffdca9d9>, line 1)",
     "output_type": "error",
     "traceback": [
      "\u001b[1;36m  File \u001b[1;32m\"<ipython-input-94-eee4ffdca9d9>\"\u001b[1;36m, line \u001b[1;32m1\u001b[0m\n\u001b[1;33m    pip install opencv-python\u001b[0m\n\u001b[1;37m        ^\u001b[0m\n\u001b[1;31mSyntaxError\u001b[0m\u001b[1;31m:\u001b[0m invalid syntax\n"
     ]
    }
   ],
   "source": [
    "pip install opencv-python\n",
    "\n"
   ]
  },
  {
   "cell_type": "code",
   "execution_count": null,
   "metadata": {
    "scrolled": true
   },
   "outputs": [],
   "source": [
    "import cv2\n",
    "import numpy as np"
   ]
  },
  {
   "cell_type": "markdown",
   "metadata": {},
   "source": [
    "# # reading image and resizing it"
   ]
  },
  {
   "cell_type": "code",
   "execution_count": 95,
   "metadata": {},
   "outputs": [
    {
     "name": "stdout",
     "output_type": "stream",
     "text": [
      "(256, 197, 3)\n",
      "1920000\n"
     ]
    }
   ],
   "source": [
    "\n",
    "num_down=2\n",
    "num_bilateral=7\n",
    "\n",
    "img_rgb=cv2.imread(\"sample1.jpg\")\n",
    "print(img_rgb.shape)# just to know the initial size of image\n",
    "img_rgb=cv2.resize(img_rgb,(800,800))\n",
    "print(img_rgb.size)#print the new size"
   ]
  },
  {
   "cell_type": "markdown",
   "metadata": {},
   "source": [
    "# # downsampling image and applying bilateral filters"
   ]
  },
  {
   "cell_type": "code",
   "execution_count": 96,
   "metadata": {},
   "outputs": [],
   "source": [
    "#downsampling using gaussian pyramid\n",
    "img_color=img_rgb\n",
    "for _ in range(num_down):\n",
    "    img_color=cv2.pyrDown(img_color)\n",
    "\n",
    "# repeatedly apply small filters instead of one large filter\n",
    "for _ in range(num_bilateral):\n",
    "    img_color=cv2.bilateralFilter(img_color,d=9,sigmaColor=9,sigmaSpace=7)"
   ]
  },
  {
   "cell_type": "markdown",
   "metadata": {},
   "source": [
    "# upsample and convert imagge to grayscale and apply blur \n"
   ]
  },
  {
   "cell_type": "code",
   "execution_count": 97,
   "metadata": {},
   "outputs": [],
   "source": [
    "#upsampling image to original size\n",
    "for _ in range(num_down):\n",
    "    img_color=cv2.pyrUp(img_color)\n",
    "\n",
    "im_gray=cv2.cvtColor(img_rgb,cv2.COLOR_RGB2GRAY)\n",
    "img_blur=cv2.medianBlur(im_gray,7)\n",
    "\n",
    "img_edge=cv2.adaptiveThreshold(img_blur,255,cv2.ADAPTIVE_THRESH_MEAN_C,cv2.THRESH_BINARY,blockSize=9,C=2)\n"
   ]
  },
  {
   "cell_type": "markdown",
   "metadata": {},
   "source": [
    "# perform bitwise-AND and display image"
   ]
  },
  {
   "cell_type": "code",
   "execution_count": 98,
   "metadata": {},
   "outputs": [],
   "source": [
    "#cv2.imshow(\"hiii\",img_color)\n",
    "#cv2.waitKey(0)"
   ]
  },
  {
   "cell_type": "code",
   "execution_count": 99,
   "metadata": {},
   "outputs": [
    {
     "data": {
      "text/plain": [
       "-1"
      ]
     },
     "execution_count": 99,
     "metadata": {},
     "output_type": "execute_result"
    }
   ],
   "source": [
    "#convert back to coloured image, bit-AND with color image\n",
    "\n",
    "img_edge= cv2.cvtColor(img_edge,cv2.COLOR_GRAY2RGB)\n",
    "img_cartoon=cv2.bitwise_and(img_color,img_edge)\n",
    "\n",
    "#display images\n",
    "\n",
    "stack=np.hstack([img_rgb,img_cartoon])\n",
    "cv2.imshow(\"Finalise Result\",stack)\n",
    "cv2.waitKey(0)"
   ]
  },
  {
   "cell_type": "code",
   "execution_count": null,
   "metadata": {},
   "outputs": [],
   "source": []
  },
  {
   "cell_type": "code",
   "execution_count": null,
   "metadata": {},
   "outputs": [],
   "source": []
  },
  {
   "cell_type": "code",
   "execution_count": null,
   "metadata": {},
   "outputs": [],
   "source": []
  }
 ],
 "metadata": {
  "kernelspec": {
   "display_name": "Python 3",
   "language": "python",
   "name": "python3"
  },
  "language_info": {
   "codemirror_mode": {
    "name": "ipython",
    "version": 3
   },
   "file_extension": ".py",
   "mimetype": "text/x-python",
   "name": "python",
   "nbconvert_exporter": "python",
   "pygments_lexer": "ipython3",
   "version": "3.8.0"
  }
 },
 "nbformat": 4,
 "nbformat_minor": 4
}
